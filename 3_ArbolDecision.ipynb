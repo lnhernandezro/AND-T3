{
 "cells": [
  {
   "cell_type": "code",
   "execution_count": null,
   "id": "0e099ca6-2c84-476b-b4dc-5350dc0593e1",
   "metadata": {},
   "outputs": [],
   "source": [
    "# Importar las librerías necesarias\n",
    "import pandas as pd\n",
    "from sklearn.model_selection import train_test_split\n",
    "from sklearn.tree import DecisionTreeClassifier\n",
    "from sklearn.metrics import accuracy_score, classification_report, confusion_matrix\n",
    "from sklearn.preprocessing import StandardScaler"
   ]
  },
  {
   "cell_type": "code",
   "execution_count": null,
   "id": "5742b7c9-d14f-49a1-84d3-92297b2dee29",
   "metadata": {},
   "outputs": [],
   "source": [
    "# Cargar el dataset\n",
    "data = pd.read_csv('winequality-red.csv')  # Asegúrate de ajustar la ruta del archivo CSV\n",
    "\n",
    "# Exploración de los datos\n",
    "print(data.head())\n",
    "print(data.info())\n",
    "print(data.describe())"
   ]
  },
  {
   "cell_type": "code",
   "execution_count": null,
   "id": "81a1bc70-faf6-4ee0-9f07-547b5c037be3",
   "metadata": {},
   "outputs": [],
   "source": [
    "# Importar las librerías necesarias para gráficos\n",
    "import matplotlib.pyplot as plt\n",
    "import seaborn as sns\n",
    "from sklearn.tree import plot_tree\n",
    "\n",
    "# Visualización de la importancia de características\n",
    "feature_importances = model.feature_importances_\n",
    "features = data.columns[:-1]  # Ajustar según las columnas de características\n",
    "\n",
    "plt.figure(figsize=(10, 6))\n",
    "plt.barh(features, feature_importances, color='skyblue')\n",
    "plt.xlabel(\"Importancia de la característica\")\n",
    "plt.title(\"Importancia de cada característica en el Árbol de Decisión\")\n",
    "plt.show()\n",
    "\n",
    "\n",
    "# Graficar la matriz de confusión\n",
    "plt.figure(figsize=(8, 6))\n",
    "sns.heatmap(conf_matrix, annot=True, cmap=\"Blues\", fmt=\"d\")\n",
    "plt.xlabel(\"Predicción\")\n",
    "plt.ylabel(\"Valor Real\")\n",
    "plt.title(\"Matriz de Confusión del Árbol de Decisión\")\n",
    "plt.show()\n",
    "\n",
    "# Visualizar el árbol de decisión (si el árbol no es demasiado grande)\n",
    "plt.figure(figsize=(20, 10))\n",
    "plot_tree(model, feature_names=features, class_names=[str(i) for i in sorted(y.unique())],\n",
    "          filled=True, rounded=True, fontsize=8)\n",
    "plt.title(\"Visualización del Árbol de Decisión\")\n",
    "plt.show()"
   ]
  },
  {
   "cell_type": "code",
   "execution_count": null,
   "id": "c3f88e8b-ec84-496d-8152-e3a42b574bb3",
   "metadata": {},
   "outputs": [],
   "source": [
    "# Separar las características (X) y la variable objetivo (y)\n",
    "X = data.drop(columns='quality')  # Ajusta el nombre de la columna objetivo según el archivo\n",
    "y = data['quality']\n",
    "\n",
    "# Dividir los datos en conjuntos de entrenamiento y prueba\n",
    "X_train, X_test, y_train, y_test = train_test_split(X, y, test_size=0.3, random_state=42)\n",
    "\n",
    "# Normalizar los datos para mejorar el rendimiento del modelo\n",
    "scaler = StandardScaler()\n",
    "X_train = scaler.fit_transform(X_train)\n",
    "X_test = scaler.transform(X_test)\n",
    "\n",
    "# Crear y entrenar el modelo de árbol de decisión\n",
    "model = DecisionTreeClassifier(random_state=42)\n",
    "model.fit(X_train, y_train)\n",
    "\n",
    "# Hacer predicciones\n",
    "y_pred = model.predict(X_test)\n",
    "\n",
    "# Evaluación del modelo\n",
    "accuracy = accuracy_score(y_test, y_pred)\n",
    "conf_matrix = confusion_matrix(y_test, y_pred)\n",
    "class_report = classification_report(y_test, y_pred)\n",
    "\n",
    "# Mostrar resultados\n",
    "print(f\"Precisión del modelo: {accuracy}\")\n",
    "print(\"Matriz de confusión:\")\n",
    "print(conf_matrix)\n",
    "print(\"Reporte de clasificación:\")\n",
    "print(class_report)"
   ]
  },
  {
   "cell_type": "code",
   "execution_count": null,
   "id": "03f236a7-9e93-4edd-bfb9-a71d67f96deb",
   "metadata": {},
   "outputs": [],
   "source": []
  }
 ],
 "metadata": {
  "kernelspec": {
   "display_name": "Python 3 (ipykernel)",
   "language": "python",
   "name": "python3"
  },
  "language_info": {
   "codemirror_mode": {
    "name": "ipython",
    "version": 3
   },
   "file_extension": ".py",
   "mimetype": "text/x-python",
   "name": "python",
   "nbconvert_exporter": "python",
   "pygments_lexer": "ipython3",
   "version": "3.12.4"
  }
 },
 "nbformat": 4,
 "nbformat_minor": 5
}
